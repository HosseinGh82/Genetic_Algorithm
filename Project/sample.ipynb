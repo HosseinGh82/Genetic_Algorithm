{
 "cells": [
  {
   "cell_type": "code",
   "execution_count": 293,
   "id": "initial_id",
   "metadata": {
    "collapsed": true,
    "ExecuteTime": {
     "end_time": "2024-01-18T15:41:11.929474600Z",
     "start_time": "2024-01-18T15:41:11.799476200Z"
    }
   },
   "outputs": [
    {
     "name": "stdout",
     "output_type": "stream",
     "text": [
      "Hello Genetic Algorithm\n"
     ]
    }
   ],
   "source": [
    "print(\"Hello Genetic Algorithm\")"
   ]
  },
  {
   "cell_type": "code",
   "outputs": [],
   "source": [
    "from sklearn.datasets import load_iris\n",
    "\n",
    "iris = load_iris()\n",
    "\n",
    "data = iris.data\n",
    "feature_names = iris.feature_names\n",
    "target_names = iris.target_names"
   ],
   "metadata": {
    "collapsed": false,
    "ExecuteTime": {
     "end_time": "2024-01-18T15:41:11.933473Z",
     "start_time": "2024-01-18T15:41:11.855473800Z"
    }
   },
   "id": "29b520f02e74a59b",
   "execution_count": 294
  },
  {
   "cell_type": "code",
   "outputs": [
    {
     "data": {
      "text/plain": "array([[5.1, 3.5, 1.4, 0.2],\n       [4.9, 3. , 1.4, 0.2],\n       [4.7, 3.2, 1.3, 0.2],\n       [4.6, 3.1, 1.5, 0.2],\n       [5. , 3.6, 1.4, 0.2],\n       [5.4, 3.9, 1.7, 0.4],\n       [4.6, 3.4, 1.4, 0.3],\n       [5. , 3.4, 1.5, 0.2],\n       [4.4, 2.9, 1.4, 0.2],\n       [4.9, 3.1, 1.5, 0.1],\n       [5.4, 3.7, 1.5, 0.2],\n       [4.8, 3.4, 1.6, 0.2],\n       [4.8, 3. , 1.4, 0.1],\n       [4.3, 3. , 1.1, 0.1],\n       [5.8, 4. , 1.2, 0.2],\n       [5.7, 4.4, 1.5, 0.4],\n       [5.4, 3.9, 1.3, 0.4],\n       [5.1, 3.5, 1.4, 0.3],\n       [5.7, 3.8, 1.7, 0.3],\n       [5.1, 3.8, 1.5, 0.3],\n       [5.4, 3.4, 1.7, 0.2],\n       [5.1, 3.7, 1.5, 0.4],\n       [4.6, 3.6, 1. , 0.2],\n       [5.1, 3.3, 1.7, 0.5],\n       [4.8, 3.4, 1.9, 0.2],\n       [5. , 3. , 1.6, 0.2],\n       [5. , 3.4, 1.6, 0.4],\n       [5.2, 3.5, 1.5, 0.2],\n       [5.2, 3.4, 1.4, 0.2],\n       [4.7, 3.2, 1.6, 0.2],\n       [4.8, 3.1, 1.6, 0.2],\n       [5.4, 3.4, 1.5, 0.4],\n       [5.2, 4.1, 1.5, 0.1],\n       [5.5, 4.2, 1.4, 0.2],\n       [4.9, 3.1, 1.5, 0.2],\n       [5. , 3.2, 1.2, 0.2],\n       [5.5, 3.5, 1.3, 0.2],\n       [4.9, 3.6, 1.4, 0.1],\n       [4.4, 3. , 1.3, 0.2],\n       [5.1, 3.4, 1.5, 0.2],\n       [5. , 3.5, 1.3, 0.3],\n       [4.5, 2.3, 1.3, 0.3],\n       [4.4, 3.2, 1.3, 0.2],\n       [5. , 3.5, 1.6, 0.6],\n       [5.1, 3.8, 1.9, 0.4],\n       [4.8, 3. , 1.4, 0.3],\n       [5.1, 3.8, 1.6, 0.2],\n       [4.6, 3.2, 1.4, 0.2],\n       [5.3, 3.7, 1.5, 0.2],\n       [5. , 3.3, 1.4, 0.2],\n       [7. , 3.2, 4.7, 1.4],\n       [6.4, 3.2, 4.5, 1.5],\n       [6.9, 3.1, 4.9, 1.5],\n       [5.5, 2.3, 4. , 1.3],\n       [6.5, 2.8, 4.6, 1.5],\n       [5.7, 2.8, 4.5, 1.3],\n       [6.3, 3.3, 4.7, 1.6],\n       [4.9, 2.4, 3.3, 1. ],\n       [6.6, 2.9, 4.6, 1.3],\n       [5.2, 2.7, 3.9, 1.4],\n       [5. , 2. , 3.5, 1. ],\n       [5.9, 3. , 4.2, 1.5],\n       [6. , 2.2, 4. , 1. ],\n       [6.1, 2.9, 4.7, 1.4],\n       [5.6, 2.9, 3.6, 1.3],\n       [6.7, 3.1, 4.4, 1.4],\n       [5.6, 3. , 4.5, 1.5],\n       [5.8, 2.7, 4.1, 1. ],\n       [6.2, 2.2, 4.5, 1.5],\n       [5.6, 2.5, 3.9, 1.1],\n       [5.9, 3.2, 4.8, 1.8],\n       [6.1, 2.8, 4. , 1.3],\n       [6.3, 2.5, 4.9, 1.5],\n       [6.1, 2.8, 4.7, 1.2],\n       [6.4, 2.9, 4.3, 1.3],\n       [6.6, 3. , 4.4, 1.4],\n       [6.8, 2.8, 4.8, 1.4],\n       [6.7, 3. , 5. , 1.7],\n       [6. , 2.9, 4.5, 1.5],\n       [5.7, 2.6, 3.5, 1. ],\n       [5.5, 2.4, 3.8, 1.1],\n       [5.5, 2.4, 3.7, 1. ],\n       [5.8, 2.7, 3.9, 1.2],\n       [6. , 2.7, 5.1, 1.6],\n       [5.4, 3. , 4.5, 1.5],\n       [6. , 3.4, 4.5, 1.6],\n       [6.7, 3.1, 4.7, 1.5],\n       [6.3, 2.3, 4.4, 1.3],\n       [5.6, 3. , 4.1, 1.3],\n       [5.5, 2.5, 4. , 1.3],\n       [5.5, 2.6, 4.4, 1.2],\n       [6.1, 3. , 4.6, 1.4],\n       [5.8, 2.6, 4. , 1.2],\n       [5. , 2.3, 3.3, 1. ],\n       [5.6, 2.7, 4.2, 1.3],\n       [5.7, 3. , 4.2, 1.2],\n       [5.7, 2.9, 4.2, 1.3],\n       [6.2, 2.9, 4.3, 1.3],\n       [5.1, 2.5, 3. , 1.1],\n       [5.7, 2.8, 4.1, 1.3],\n       [6.3, 3.3, 6. , 2.5],\n       [5.8, 2.7, 5.1, 1.9],\n       [7.1, 3. , 5.9, 2.1],\n       [6.3, 2.9, 5.6, 1.8],\n       [6.5, 3. , 5.8, 2.2],\n       [7.6, 3. , 6.6, 2.1],\n       [4.9, 2.5, 4.5, 1.7],\n       [7.3, 2.9, 6.3, 1.8],\n       [6.7, 2.5, 5.8, 1.8],\n       [7.2, 3.6, 6.1, 2.5],\n       [6.5, 3.2, 5.1, 2. ],\n       [6.4, 2.7, 5.3, 1.9],\n       [6.8, 3. , 5.5, 2.1],\n       [5.7, 2.5, 5. , 2. ],\n       [5.8, 2.8, 5.1, 2.4],\n       [6.4, 3.2, 5.3, 2.3],\n       [6.5, 3. , 5.5, 1.8],\n       [7.7, 3.8, 6.7, 2.2],\n       [7.7, 2.6, 6.9, 2.3],\n       [6. , 2.2, 5. , 1.5],\n       [6.9, 3.2, 5.7, 2.3],\n       [5.6, 2.8, 4.9, 2. ],\n       [7.7, 2.8, 6.7, 2. ],\n       [6.3, 2.7, 4.9, 1.8],\n       [6.7, 3.3, 5.7, 2.1],\n       [7.2, 3.2, 6. , 1.8],\n       [6.2, 2.8, 4.8, 1.8],\n       [6.1, 3. , 4.9, 1.8],\n       [6.4, 2.8, 5.6, 2.1],\n       [7.2, 3. , 5.8, 1.6],\n       [7.4, 2.8, 6.1, 1.9],\n       [7.9, 3.8, 6.4, 2. ],\n       [6.4, 2.8, 5.6, 2.2],\n       [6.3, 2.8, 5.1, 1.5],\n       [6.1, 2.6, 5.6, 1.4],\n       [7.7, 3. , 6.1, 2.3],\n       [6.3, 3.4, 5.6, 2.4],\n       [6.4, 3.1, 5.5, 1.8],\n       [6. , 3. , 4.8, 1.8],\n       [6.9, 3.1, 5.4, 2.1],\n       [6.7, 3.1, 5.6, 2.4],\n       [6.9, 3.1, 5.1, 2.3],\n       [5.8, 2.7, 5.1, 1.9],\n       [6.8, 3.2, 5.9, 2.3],\n       [6.7, 3.3, 5.7, 2.5],\n       [6.7, 3. , 5.2, 2.3],\n       [6.3, 2.5, 5. , 1.9],\n       [6.5, 3. , 5.2, 2. ],\n       [6.2, 3.4, 5.4, 2.3],\n       [5.9, 3. , 5.1, 1.8]])"
     },
     "execution_count": 295,
     "metadata": {},
     "output_type": "execute_result"
    }
   ],
   "source": [
    "data"
   ],
   "metadata": {
    "collapsed": false,
    "ExecuteTime": {
     "end_time": "2024-01-18T15:41:11.966474900Z",
     "start_time": "2024-01-18T15:41:11.943477800Z"
    }
   },
   "id": "e79d8d437c7c2bdb",
   "execution_count": 295
  },
  {
   "cell_type": "code",
   "outputs": [
    {
     "data": {
      "text/plain": "array([[-9.00681170e-01,  1.01900435e+00, -1.34022653e+00,\n        -1.31544430e+00],\n       [-1.14301691e+00, -1.31979479e-01, -1.34022653e+00,\n        -1.31544430e+00],\n       [-1.38535265e+00,  3.28414053e-01, -1.39706395e+00,\n        -1.31544430e+00],\n       [-1.50652052e+00,  9.82172869e-02, -1.28338910e+00,\n        -1.31544430e+00],\n       [-1.02184904e+00,  1.24920112e+00, -1.34022653e+00,\n        -1.31544430e+00],\n       [-5.37177559e-01,  1.93979142e+00, -1.16971425e+00,\n        -1.05217993e+00],\n       [-1.50652052e+00,  7.88807586e-01, -1.34022653e+00,\n        -1.18381211e+00],\n       [-1.02184904e+00,  7.88807586e-01, -1.28338910e+00,\n        -1.31544430e+00],\n       [-1.74885626e+00, -3.62176246e-01, -1.34022653e+00,\n        -1.31544430e+00],\n       [-1.14301691e+00,  9.82172869e-02, -1.28338910e+00,\n        -1.44707648e+00],\n       [-5.37177559e-01,  1.47939788e+00, -1.28338910e+00,\n        -1.31544430e+00],\n       [-1.26418478e+00,  7.88807586e-01, -1.22655167e+00,\n        -1.31544430e+00],\n       [-1.26418478e+00, -1.31979479e-01, -1.34022653e+00,\n        -1.44707648e+00],\n       [-1.87002413e+00, -1.31979479e-01, -1.51073881e+00,\n        -1.44707648e+00],\n       [-5.25060772e-02,  2.16998818e+00, -1.45390138e+00,\n        -1.31544430e+00],\n       [-1.73673948e-01,  3.09077525e+00, -1.28338910e+00,\n        -1.05217993e+00],\n       [-5.37177559e-01,  1.93979142e+00, -1.39706395e+00,\n        -1.05217993e+00],\n       [-9.00681170e-01,  1.01900435e+00, -1.34022653e+00,\n        -1.18381211e+00],\n       [-1.73673948e-01,  1.70959465e+00, -1.16971425e+00,\n        -1.18381211e+00],\n       [-9.00681170e-01,  1.70959465e+00, -1.28338910e+00,\n        -1.18381211e+00],\n       [-5.37177559e-01,  7.88807586e-01, -1.16971425e+00,\n        -1.31544430e+00],\n       [-9.00681170e-01,  1.47939788e+00, -1.28338910e+00,\n        -1.05217993e+00],\n       [-1.50652052e+00,  1.24920112e+00, -1.56757623e+00,\n        -1.31544430e+00],\n       [-9.00681170e-01,  5.58610819e-01, -1.16971425e+00,\n        -9.20547742e-01],\n       [-1.26418478e+00,  7.88807586e-01, -1.05603939e+00,\n        -1.31544430e+00],\n       [-1.02184904e+00, -1.31979479e-01, -1.22655167e+00,\n        -1.31544430e+00],\n       [-1.02184904e+00,  7.88807586e-01, -1.22655167e+00,\n        -1.05217993e+00],\n       [-7.79513300e-01,  1.01900435e+00, -1.28338910e+00,\n        -1.31544430e+00],\n       [-7.79513300e-01,  7.88807586e-01, -1.34022653e+00,\n        -1.31544430e+00],\n       [-1.38535265e+00,  3.28414053e-01, -1.22655167e+00,\n        -1.31544430e+00],\n       [-1.26418478e+00,  9.82172869e-02, -1.22655167e+00,\n        -1.31544430e+00],\n       [-5.37177559e-01,  7.88807586e-01, -1.28338910e+00,\n        -1.05217993e+00],\n       [-7.79513300e-01,  2.40018495e+00, -1.28338910e+00,\n        -1.44707648e+00],\n       [-4.16009689e-01,  2.63038172e+00, -1.34022653e+00,\n        -1.31544430e+00],\n       [-1.14301691e+00,  9.82172869e-02, -1.28338910e+00,\n        -1.31544430e+00],\n       [-1.02184904e+00,  3.28414053e-01, -1.45390138e+00,\n        -1.31544430e+00],\n       [-4.16009689e-01,  1.01900435e+00, -1.39706395e+00,\n        -1.31544430e+00],\n       [-1.14301691e+00,  1.24920112e+00, -1.34022653e+00,\n        -1.44707648e+00],\n       [-1.74885626e+00, -1.31979479e-01, -1.39706395e+00,\n        -1.31544430e+00],\n       [-9.00681170e-01,  7.88807586e-01, -1.28338910e+00,\n        -1.31544430e+00],\n       [-1.02184904e+00,  1.01900435e+00, -1.39706395e+00,\n        -1.18381211e+00],\n       [-1.62768839e+00, -1.74335684e+00, -1.39706395e+00,\n        -1.18381211e+00],\n       [-1.74885626e+00,  3.28414053e-01, -1.39706395e+00,\n        -1.31544430e+00],\n       [-1.02184904e+00,  1.01900435e+00, -1.22655167e+00,\n        -7.88915558e-01],\n       [-9.00681170e-01,  1.70959465e+00, -1.05603939e+00,\n        -1.05217993e+00],\n       [-1.26418478e+00, -1.31979479e-01, -1.34022653e+00,\n        -1.18381211e+00],\n       [-9.00681170e-01,  1.70959465e+00, -1.22655167e+00,\n        -1.31544430e+00],\n       [-1.50652052e+00,  3.28414053e-01, -1.34022653e+00,\n        -1.31544430e+00],\n       [-6.58345429e-01,  1.47939788e+00, -1.28338910e+00,\n        -1.31544430e+00],\n       [-1.02184904e+00,  5.58610819e-01, -1.34022653e+00,\n        -1.31544430e+00],\n       [ 1.40150837e+00,  3.28414053e-01,  5.35408562e-01,\n         2.64141916e-01],\n       [ 6.74501145e-01,  3.28414053e-01,  4.21733708e-01,\n         3.95774101e-01],\n       [ 1.28034050e+00,  9.82172869e-02,  6.49083415e-01,\n         3.95774101e-01],\n       [-4.16009689e-01, -1.74335684e+00,  1.37546573e-01,\n         1.32509732e-01],\n       [ 7.95669016e-01, -5.92373012e-01,  4.78571135e-01,\n         3.95774101e-01],\n       [-1.73673948e-01, -5.92373012e-01,  4.21733708e-01,\n         1.32509732e-01],\n       [ 5.53333275e-01,  5.58610819e-01,  5.35408562e-01,\n         5.27406285e-01],\n       [-1.14301691e+00, -1.51316008e+00, -2.60315415e-01,\n        -2.62386821e-01],\n       [ 9.16836886e-01, -3.62176246e-01,  4.78571135e-01,\n         1.32509732e-01],\n       [-7.79513300e-01, -8.22569778e-01,  8.07091462e-02,\n         2.64141916e-01],\n       [-1.02184904e+00, -2.43394714e+00, -1.46640561e-01,\n        -2.62386821e-01],\n       [ 6.86617933e-02, -1.31979479e-01,  2.51221427e-01,\n         3.95774101e-01],\n       [ 1.89829664e-01, -1.97355361e+00,  1.37546573e-01,\n        -2.62386821e-01],\n       [ 3.10997534e-01, -3.62176246e-01,  5.35408562e-01,\n         2.64141916e-01],\n       [-2.94841818e-01, -3.62176246e-01, -8.98031345e-02,\n         1.32509732e-01],\n       [ 1.03800476e+00,  9.82172869e-02,  3.64896281e-01,\n         2.64141916e-01],\n       [-2.94841818e-01, -1.31979479e-01,  4.21733708e-01,\n         3.95774101e-01],\n       [-5.25060772e-02, -8.22569778e-01,  1.94384000e-01,\n        -2.62386821e-01],\n       [ 4.32165405e-01, -1.97355361e+00,  4.21733708e-01,\n         3.95774101e-01],\n       [-2.94841818e-01, -1.28296331e+00,  8.07091462e-02,\n        -1.30754636e-01],\n       [ 6.86617933e-02,  3.28414053e-01,  5.92245988e-01,\n         7.90670654e-01],\n       [ 3.10997534e-01, -5.92373012e-01,  1.37546573e-01,\n         1.32509732e-01],\n       [ 5.53333275e-01, -1.28296331e+00,  6.49083415e-01,\n         3.95774101e-01],\n       [ 3.10997534e-01, -5.92373012e-01,  5.35408562e-01,\n         8.77547895e-04],\n       [ 6.74501145e-01, -3.62176246e-01,  3.08058854e-01,\n         1.32509732e-01],\n       [ 9.16836886e-01, -1.31979479e-01,  3.64896281e-01,\n         2.64141916e-01],\n       [ 1.15917263e+00, -5.92373012e-01,  5.92245988e-01,\n         2.64141916e-01],\n       [ 1.03800476e+00, -1.31979479e-01,  7.05920842e-01,\n         6.59038469e-01],\n       [ 1.89829664e-01, -3.62176246e-01,  4.21733708e-01,\n         3.95774101e-01],\n       [-1.73673948e-01, -1.05276654e+00, -1.46640561e-01,\n        -2.62386821e-01],\n       [-4.16009689e-01, -1.51316008e+00,  2.38717193e-02,\n        -1.30754636e-01],\n       [-4.16009689e-01, -1.51316008e+00, -3.29657076e-02,\n        -2.62386821e-01],\n       [-5.25060772e-02, -8.22569778e-01,  8.07091462e-02,\n         8.77547895e-04],\n       [ 1.89829664e-01, -8.22569778e-01,  7.62758269e-01,\n         5.27406285e-01],\n       [-5.37177559e-01, -1.31979479e-01,  4.21733708e-01,\n         3.95774101e-01],\n       [ 1.89829664e-01,  7.88807586e-01,  4.21733708e-01,\n         5.27406285e-01],\n       [ 1.03800476e+00,  9.82172869e-02,  5.35408562e-01,\n         3.95774101e-01],\n       [ 5.53333275e-01, -1.74335684e+00,  3.64896281e-01,\n         1.32509732e-01],\n       [-2.94841818e-01, -1.31979479e-01,  1.94384000e-01,\n         1.32509732e-01],\n       [-4.16009689e-01, -1.28296331e+00,  1.37546573e-01,\n         1.32509732e-01],\n       [-4.16009689e-01, -1.05276654e+00,  3.64896281e-01,\n         8.77547895e-04],\n       [ 3.10997534e-01, -1.31979479e-01,  4.78571135e-01,\n         2.64141916e-01],\n       [-5.25060772e-02, -1.05276654e+00,  1.37546573e-01,\n         8.77547895e-04],\n       [-1.02184904e+00, -1.74335684e+00, -2.60315415e-01,\n        -2.62386821e-01],\n       [-2.94841818e-01, -8.22569778e-01,  2.51221427e-01,\n         1.32509732e-01],\n       [-1.73673948e-01, -1.31979479e-01,  2.51221427e-01,\n         8.77547895e-04],\n       [-1.73673948e-01, -3.62176246e-01,  2.51221427e-01,\n         1.32509732e-01],\n       [ 4.32165405e-01, -3.62176246e-01,  3.08058854e-01,\n         1.32509732e-01],\n       [-9.00681170e-01, -1.28296331e+00, -4.30827696e-01,\n        -1.30754636e-01],\n       [-1.73673948e-01, -5.92373012e-01,  1.94384000e-01,\n         1.32509732e-01],\n       [ 5.53333275e-01,  5.58610819e-01,  1.27429511e+00,\n         1.71209594e+00],\n       [-5.25060772e-02, -8.22569778e-01,  7.62758269e-01,\n         9.22302838e-01],\n       [ 1.52267624e+00, -1.31979479e-01,  1.21745768e+00,\n         1.18556721e+00],\n       [ 5.53333275e-01, -3.62176246e-01,  1.04694540e+00,\n         7.90670654e-01],\n       [ 7.95669016e-01, -1.31979479e-01,  1.16062026e+00,\n         1.31719939e+00],\n       [ 2.12851559e+00, -1.31979479e-01,  1.61531967e+00,\n         1.18556721e+00],\n       [-1.14301691e+00, -1.28296331e+00,  4.21733708e-01,\n         6.59038469e-01],\n       [ 1.76501198e+00, -3.62176246e-01,  1.44480739e+00,\n         7.90670654e-01],\n       [ 1.03800476e+00, -1.28296331e+00,  1.16062026e+00,\n         7.90670654e-01],\n       [ 1.64384411e+00,  1.24920112e+00,  1.33113254e+00,\n         1.71209594e+00],\n       [ 7.95669016e-01,  3.28414053e-01,  7.62758269e-01,\n         1.05393502e+00],\n       [ 6.74501145e-01, -8.22569778e-01,  8.76433123e-01,\n         9.22302838e-01],\n       [ 1.15917263e+00, -1.31979479e-01,  9.90107977e-01,\n         1.18556721e+00],\n       [-1.73673948e-01, -1.28296331e+00,  7.05920842e-01,\n         1.05393502e+00],\n       [-5.25060772e-02, -5.92373012e-01,  7.62758269e-01,\n         1.58046376e+00],\n       [ 6.74501145e-01,  3.28414053e-01,  8.76433123e-01,\n         1.44883158e+00],\n       [ 7.95669016e-01, -1.31979479e-01,  9.90107977e-01,\n         7.90670654e-01],\n       [ 2.24968346e+00,  1.70959465e+00,  1.67215710e+00,\n         1.31719939e+00],\n       [ 2.24968346e+00, -1.05276654e+00,  1.78583195e+00,\n         1.44883158e+00],\n       [ 1.89829664e-01, -1.97355361e+00,  7.05920842e-01,\n         3.95774101e-01],\n       [ 1.28034050e+00,  3.28414053e-01,  1.10378283e+00,\n         1.44883158e+00],\n       [-2.94841818e-01, -5.92373012e-01,  6.49083415e-01,\n         1.05393502e+00],\n       [ 2.24968346e+00, -5.92373012e-01,  1.67215710e+00,\n         1.05393502e+00],\n       [ 5.53333275e-01, -8.22569778e-01,  6.49083415e-01,\n         7.90670654e-01],\n       [ 1.03800476e+00,  5.58610819e-01,  1.10378283e+00,\n         1.18556721e+00],\n       [ 1.64384411e+00,  3.28414053e-01,  1.27429511e+00,\n         7.90670654e-01],\n       [ 4.32165405e-01, -5.92373012e-01,  5.92245988e-01,\n         7.90670654e-01],\n       [ 3.10997534e-01, -1.31979479e-01,  6.49083415e-01,\n         7.90670654e-01],\n       [ 6.74501145e-01, -5.92373012e-01,  1.04694540e+00,\n         1.18556721e+00],\n       [ 1.64384411e+00, -1.31979479e-01,  1.16062026e+00,\n         5.27406285e-01],\n       [ 1.88617985e+00, -5.92373012e-01,  1.33113254e+00,\n         9.22302838e-01],\n       [ 2.49201920e+00,  1.70959465e+00,  1.50164482e+00,\n         1.05393502e+00],\n       [ 6.74501145e-01, -5.92373012e-01,  1.04694540e+00,\n         1.31719939e+00],\n       [ 5.53333275e-01, -5.92373012e-01,  7.62758269e-01,\n         3.95774101e-01],\n       [ 3.10997534e-01, -1.05276654e+00,  1.04694540e+00,\n         2.64141916e-01],\n       [ 2.24968346e+00, -1.31979479e-01,  1.33113254e+00,\n         1.44883158e+00],\n       [ 5.53333275e-01,  7.88807586e-01,  1.04694540e+00,\n         1.58046376e+00],\n       [ 6.74501145e-01,  9.82172869e-02,  9.90107977e-01,\n         7.90670654e-01],\n       [ 1.89829664e-01, -1.31979479e-01,  5.92245988e-01,\n         7.90670654e-01],\n       [ 1.28034050e+00,  9.82172869e-02,  9.33270550e-01,\n         1.18556721e+00],\n       [ 1.03800476e+00,  9.82172869e-02,  1.04694540e+00,\n         1.58046376e+00],\n       [ 1.28034050e+00,  9.82172869e-02,  7.62758269e-01,\n         1.44883158e+00],\n       [-5.25060772e-02, -8.22569778e-01,  7.62758269e-01,\n         9.22302838e-01],\n       [ 1.15917263e+00,  3.28414053e-01,  1.21745768e+00,\n         1.44883158e+00],\n       [ 1.03800476e+00,  5.58610819e-01,  1.10378283e+00,\n         1.71209594e+00],\n       [ 1.03800476e+00, -1.31979479e-01,  8.19595696e-01,\n         1.44883158e+00],\n       [ 5.53333275e-01, -1.28296331e+00,  7.05920842e-01,\n         9.22302838e-01],\n       [ 7.95669016e-01, -1.31979479e-01,  8.19595696e-01,\n         1.05393502e+00],\n       [ 4.32165405e-01,  7.88807586e-01,  9.33270550e-01,\n         1.44883158e+00],\n       [ 6.86617933e-02, -1.31979479e-01,  7.62758269e-01,\n         7.90670654e-01]])"
     },
     "execution_count": 296,
     "metadata": {},
     "output_type": "execute_result"
    }
   ],
   "source": [
    "from sklearn.preprocessing import StandardScaler\n",
    "\n",
    "scaler = StandardScaler()\n",
    "scaled_data = scaler.fit_transform(data)\n",
    "scaled_data"
   ],
   "metadata": {
    "collapsed": false,
    "ExecuteTime": {
     "end_time": "2024-01-18T15:41:12.027476300Z",
     "start_time": "2024-01-18T15:41:11.977475800Z"
    }
   },
   "id": "3e0b7818e5d6e6a6",
   "execution_count": 296
  },
  {
   "cell_type": "code",
   "outputs": [],
   "source": [
    "import pandas as pd\n",
    "from sklearn.decomposition import PCA\n",
    "\n",
    "pca = PCA(n_components=2)  # Specify the number of components\n",
    "pca_result = pca.fit_transform(scaled_data)\n",
    "\n",
    "pca_df = pd.DataFrame(data=pca_result, columns=['PC1', 'PC2'])\n",
    "pca_df['target'] = iris.target"
   ],
   "metadata": {
    "collapsed": false,
    "ExecuteTime": {
     "end_time": "2024-01-18T15:41:12.053474300Z",
     "start_time": "2024-01-18T15:41:12.012473900Z"
    }
   },
   "id": "566079afcea219db",
   "execution_count": 297
  },
  {
   "cell_type": "code",
   "outputs": [
    {
     "data": {
      "text/plain": "          PC1       PC2  target\n0   -2.264703  0.480027       0\n1   -2.080961 -0.674134       0\n2   -2.364229 -0.341908       0\n3   -2.299384 -0.597395       0\n4   -2.389842  0.646835       0\n..        ...       ...     ...\n145  1.870503  0.386966       2\n146  1.564580 -0.896687       2\n147  1.521170  0.269069       2\n148  1.372788  1.011254       2\n149  0.960656 -0.024332       2\n\n[150 rows x 3 columns]",
      "text/html": "<div>\n<style scoped>\n    .dataframe tbody tr th:only-of-type {\n        vertical-align: middle;\n    }\n\n    .dataframe tbody tr th {\n        vertical-align: top;\n    }\n\n    .dataframe thead th {\n        text-align: right;\n    }\n</style>\n<table border=\"1\" class=\"dataframe\">\n  <thead>\n    <tr style=\"text-align: right;\">\n      <th></th>\n      <th>PC1</th>\n      <th>PC2</th>\n      <th>target</th>\n    </tr>\n  </thead>\n  <tbody>\n    <tr>\n      <th>0</th>\n      <td>-2.264703</td>\n      <td>0.480027</td>\n      <td>0</td>\n    </tr>\n    <tr>\n      <th>1</th>\n      <td>-2.080961</td>\n      <td>-0.674134</td>\n      <td>0</td>\n    </tr>\n    <tr>\n      <th>2</th>\n      <td>-2.364229</td>\n      <td>-0.341908</td>\n      <td>0</td>\n    </tr>\n    <tr>\n      <th>3</th>\n      <td>-2.299384</td>\n      <td>-0.597395</td>\n      <td>0</td>\n    </tr>\n    <tr>\n      <th>4</th>\n      <td>-2.389842</td>\n      <td>0.646835</td>\n      <td>0</td>\n    </tr>\n    <tr>\n      <th>...</th>\n      <td>...</td>\n      <td>...</td>\n      <td>...</td>\n    </tr>\n    <tr>\n      <th>145</th>\n      <td>1.870503</td>\n      <td>0.386966</td>\n      <td>2</td>\n    </tr>\n    <tr>\n      <th>146</th>\n      <td>1.564580</td>\n      <td>-0.896687</td>\n      <td>2</td>\n    </tr>\n    <tr>\n      <th>147</th>\n      <td>1.521170</td>\n      <td>0.269069</td>\n      <td>2</td>\n    </tr>\n    <tr>\n      <th>148</th>\n      <td>1.372788</td>\n      <td>1.011254</td>\n      <td>2</td>\n    </tr>\n    <tr>\n      <th>149</th>\n      <td>0.960656</td>\n      <td>-0.024332</td>\n      <td>2</td>\n    </tr>\n  </tbody>\n</table>\n<p>150 rows × 3 columns</p>\n</div>"
     },
     "execution_count": 298,
     "metadata": {},
     "output_type": "execute_result"
    }
   ],
   "source": [
    "pca_df"
   ],
   "metadata": {
    "collapsed": false,
    "ExecuteTime": {
     "end_time": "2024-01-18T15:41:12.124555Z",
     "start_time": "2024-01-18T15:41:12.040478700Z"
    }
   },
   "id": "b5f0949365643566",
   "execution_count": 298
  },
  {
   "cell_type": "code",
   "outputs": [
    {
     "data": {
      "text/plain": "<Figure size 800x600 with 1 Axes>",
      "image/png": "[encoded data removed]"
     },
     "metadata": {},
     "output_type": "display_data"
    }
   ],
   "source": [
    "import matplotlib.pyplot as plt\n",
    "\n",
    "plt.figure(figsize=(8, 6))\n",
    "\n",
    "plt.scatter(\n",
    "    pca_result[:, 0],\n",
    "    pca_result[:, 1],\n",
    "    color='green',\n",
    "    marker='o',\n",
    "    edgecolors='blue',\n",
    "    alpha=0.8\n",
    ")\n",
    "\n",
    "plt.title('PCA of Iris Dataset')\n",
    "plt.xlabel('Principal Component 1')\n",
    "plt.ylabel('Principal Component 2')\n",
    "plt.grid(True)\n",
    "plt.show()"
   ],
   "metadata": {
    "collapsed": false,
    "ExecuteTime": {
     "end_time": "2024-01-18T15:41:12.411535600Z",
     "start_time": "2024-01-18T15:41:12.104533600Z"
    }
   },
   "id": "b2d260e66d026da7",
   "execution_count": 299
  },
  {
   "cell_type": "code",
   "outputs": [
    {
     "name": "stderr",
     "output_type": "stream",
     "text": [
      "C:\\Users\\Hossein\\anaconda3\\envs\\Dataset\\lib\\site-packages\\sklearn\\cluster\\_kmeans.py:1412: FutureWarning: The default value of `n_init` will change from 10 to 'auto' in 1.4. Set the value of `n_init` explicitly to suppress the warning\n",
      "  super()._check_params_vs_input(X, default_n_init=10)\n",
      "C:\\Users\\Hossein\\anaconda3\\envs\\Dataset\\lib\\site-packages\\sklearn\\cluster\\_kmeans.py:1436: UserWarning: KMeans is known to have a memory leak on Windows with MKL, when there are less chunks than available threads. You can avoid it by setting the environment variable OMP_NUM_THREADS=1.\n",
      "  warnings.warn(\n"
     ]
    },
    {
     "data": {
      "text/plain": "<Figure size 800x600 with 1 Axes>",
      "image/png": "[encoded data removed]"
     },
     "metadata": {},
     "output_type": "display_data"
    },
    {
     "name": "stdout",
     "output_type": "stream",
     "text": [
      "center of each cluster:\n",
      "Cluster 0: (0.5726214350030164, -0.807208877615776)\n",
      "Cluster 1: (-2.2247531601152404, 0.28892745101820555)\n",
      "Cluster 2: (1.7210366372468573, 0.6028871906962949)\n",
      "[[ 0.57262144 -0.80720888]\n",
      " [-2.22475316  0.28892745]\n",
      " [ 1.72103664  0.60288719]]\n"
     ]
    }
   ],
   "source": [
    "import matplotlib.pyplot as plt\n",
    "from sklearn.cluster import KMeans\n",
    "\n",
    "kmeans = KMeans(n_clusters=3, random_state=42)\n",
    "kmeans.fit(pca_result)\n",
    "\n",
    "plt.figure(figsize=(8, 6))\n",
    "\n",
    "for cluster, color in zip(range(3), ['blue', 'red', 'green']):\n",
    "    plt.scatter(\n",
    "        pca_result[kmeans.labels_ == cluster, 0],\n",
    "        pca_result[kmeans.labels_ == cluster, 1],\n",
    "        label=f'Cluster {cluster}',\n",
    "        color=color\n",
    "    )\n",
    "\n",
    "plt.scatter(\n",
    "    kmeans.cluster_centers_[:, 0],\n",
    "    kmeans.cluster_centers_[:, 1],\n",
    "    marker='X',\n",
    "    s=200,\n",
    "    c='black',\n",
    "    label='Cluster Centers'\n",
    ")\n",
    "\n",
    "plt.title('K-means Clustering of Iris Dataset')\n",
    "plt.xlabel('Principal Component 1')\n",
    "plt.ylabel('Principal Component 2')\n",
    "plt.legend()\n",
    "plt.grid(True)\n",
    "plt.show()\n",
    "\n",
    "print(\"center of each cluster:\")\n",
    "for i, center in enumerate(kmeans.cluster_centers_):\n",
    "    print(f\"Cluster {i}: ({center[0]}, {center[1]})\")\n",
    "print(kmeans.cluster_centers_)"
   ],
   "metadata": {
    "collapsed": false,
    "ExecuteTime": {
     "end_time": "2024-01-18T15:41:13.987765300Z",
     "start_time": "2024-01-18T15:41:12.409529800Z"
    }
   },
   "id": "96522b9b42460a18",
   "execution_count": 300
  },
  {
   "cell_type": "code",
   "outputs": [],
   "source": [
    "import numpy as np\n",
    "\n",
    "def initialize_chromosome(n, k):\n",
    "    labels = np.random.randint(1, k + 1, size=n)\n",
    "    chromosome = np.append(labels, k)\n",
    "    return chromosome"
   ],
   "metadata": {
    "collapsed": false,
    "ExecuteTime": {
     "end_time": "2024-01-18T15:41:14.001765300Z",
     "start_time": "2024-01-18T15:41:13.987765300Z"
    }
   },
   "id": "f900729ef0762628",
   "execution_count": 301
  },
  {
   "cell_type": "code",
   "outputs": [],
   "source": [
    "import numpy as np\n",
    "\n",
    "def initialize_population(population_size, n, k):\n",
    "    population = [initialize_chromosome(n - 1, k) for _ in range(population_size)]\n",
    "    return np.array(population)"
   ],
   "metadata": {
    "collapsed": false,
    "ExecuteTime": {
     "end_time": "2024-01-18T15:41:14.093061Z",
     "start_time": "2024-01-18T15:41:13.999765600Z"
    }
   },
   "id": "c0d3631d296222c5",
   "execution_count": 302
  },
  {
   "cell_type": "code",
   "outputs": [],
   "source": [
    "def calculate_distance(df ,a, b):\n",
    "    feature1a = df.iloc[a]['PC1']\n",
    "    feature2a = df.iloc[a]['PC2']\n",
    "\n",
    "    feature1b = df.iloc[b]['PC1']\n",
    "    feature2b = df.iloc[b]['PC2']\n",
    "\n",
    "    result = abs(feature1b - feature1a) + abs(feature2b - feature2a)\n",
    "\n",
    "    return result"
   ],
   "metadata": {
    "collapsed": false,
    "ExecuteTime": {
     "end_time": "2024-01-18T15:41:14.094058400Z",
     "start_time": "2024-01-18T15:41:14.011766200Z"
    }
   },
   "id": "c51e241bc495740e",
   "execution_count": 303
  },
  {
   "cell_type": "code",
   "outputs": [],
   "source": [
    "def calculate_sum_of_distances(df, listOfPoints, center):\n",
    "    sum = 0\n",
    "    for i in listOfPoints:\n",
    "        sum += calculate_distance(df, i, center)\n",
    "\n",
    "    result = 1 / sum * 100\n",
    "    return result"
   ],
   "metadata": {
    "collapsed": false,
    "ExecuteTime": {
     "end_time": "2024-01-18T15:41:14.094058400Z",
     "start_time": "2024-01-18T15:41:14.018764600Z"
    }
   },
   "id": "38a880ec2a218fb",
   "execution_count": 304
  },
  {
   "cell_type": "code",
   "outputs": [],
   "source": [
    "import random\n",
    "\n",
    "def fitness_function(pop, pop_size, df):\n",
    "    result = []\n",
    "    for i in range(pop_size):\n",
    "        ones_list = []\n",
    "        twos_list = []\n",
    "        threes_list = []\n",
    "    \n",
    "        for j in range(150):\n",
    "            if pop[i][j] == 1:\n",
    "                ones_list.append(j)\n",
    "            if pop[i][j] == 2:\n",
    "                twos_list.append(j)\n",
    "            if pop[i][j] == 3:\n",
    "                threes_list.append(j)\n",
    "    \n",
    "        # print(\"cluster1: \", ones_list)\n",
    "        # print(\"cluster2: \", twos_list)\n",
    "        # print(\"cluster3: \", threes_list)\n",
    "        # print()\n",
    "\n",
    "        ones_center = random.randint(0, len(ones_list) - 1)\n",
    "        twos_center = random.randint(0, len(twos_list) - 1)\n",
    "        threes_center = random.randint(0, len(three_list) - 1)\n",
    "    \n",
    "        # print(\"CENTER OF CLUSTERS:\")\n",
    "        # print(\"Center of Cluster1 = \", df.iloc[ones_center]['PC1'], df.iloc[ones_center]['PC2'])\n",
    "        # print(\"Center of Cluster2 = \", df.iloc[twos_center]['PC1'], df.iloc[twos_center]['PC2'])\n",
    "        # print(\"Center of Cluster3 = \", df.iloc[threes_center]['PC1'], df.iloc[threes_center]['PC2'])\n",
    "        # print()\n",
    "    \n",
    "        score1 = calculate_sum_of_distances(df, ones_list, ones_center) + calculate_sum_of_distances(df, ones_list, ones_center)\n",
    "        score2 = calculate_sum_of_distances(df, ones_list, ones_center) + calculate_sum_of_distances(df, twos_list, twos_center)\n",
    "        score3 = calculate_sum_of_distances(df, ones_list, ones_center) + calculate_sum_of_distances(df, threes_list, threes_center)\n",
    "        sumOfScores = score1 + score2 + score3 \n",
    "    \n",
    "        # print(\"SCORES OF CHROMOSOME:\")\n",
    "        # print(score1, score2, score3)\n",
    "        # print(\"sum of score = \", sumOfScores)\n",
    "        # print(\"----------------------------------------------------------------------------------------------\")\n",
    "        # print()\n",
    "    \n",
    "        result.append(sumOfScores)    \n",
    "        \n",
    "    return result"
   ],
   "metadata": {
    "collapsed": false,
    "ExecuteTime": {
     "end_time": "2024-01-18T15:41:14.114060200Z",
     "start_time": "2024-01-18T15:41:14.043765500Z"
    }
   },
   "id": "4b5f55763498d8e8",
   "execution_count": 305
  },
  {
   "cell_type": "code",
   "outputs": [
    {
     "name": "stdout",
     "output_type": "stream",
     "text": [
      "score of chromosome 0  = 4.107873400251773\n",
      "score of chromosome 1  = 3.920078112520936\n",
      "score of chromosome 2  = 4.6149952679028665\n",
      "score of chromosome 3  = 4.520080638847307\n",
      "score of chromosome 4  = 3.5958066429190367\n"
     ]
    }
   ],
   "source": [
    "listOfScores = fitness_function(population, population_size, pca_df)    \n",
    "\n",
    "for i in range(population_size):\n",
    "    print(\"score of chromosome\", i,\" =\", listOfScores[i])"
   ],
   "metadata": {
    "collapsed": false,
    "ExecuteTime": {
     "end_time": "2024-01-18T15:41:14.532065Z",
     "start_time": "2024-01-18T15:41:14.052766500Z"
    }
   },
   "id": "66207df34c4d1a31",
   "execution_count": 306
  },
  {
   "cell_type": "code",
   "outputs": [],
   "source": [
    "import numpy as np\n",
    "import random\n",
    "\n",
    "def crossover(chromosome1, chromosome2):\n",
    "    chromosome_length = len(chromosome1)\n",
    "\n",
    "    crossover_point = random.randint(1, chromosome_length - 2)\n",
    "\n",
    "    child1 = np.concatenate((chromosome1[:crossover_point], chromosome2[crossover_point:]))\n",
    "    child2 = np.concatenate((chromosome2[:crossover_point], chromosome1[crossover_point:]))\n",
    "\n",
    "    return child1, child2\n"
   ],
   "metadata": {
    "collapsed": false,
    "ExecuteTime": {
     "end_time": "2024-01-18T15:41:14.548229100Z",
     "start_time": "2024-01-18T15:41:14.538064400Z"
    }
   },
   "id": "468f2402267019ad",
   "execution_count": 307
  },
  {
   "cell_type": "code",
   "outputs": [],
   "source": [
    "import numpy as np\n",
    "import random\n",
    "\n",
    "def mutation(chromosome, mutation_rate):\n",
    "    mutated_chromosome = chromosome.copy()\n",
    "\n",
    "    for i in range(len(mutated_chromosome)):\n",
    "        if random.random() < mutation_rate:\n",
    "            mutated_chromosome[i] = np.random.randint(1, 4)  # Random integer from 1 to 10\n",
    "\n",
    "    return mutated_chromosome\n"
   ],
   "metadata": {
    "collapsed": false,
    "ExecuteTime": {
     "end_time": "2024-01-18T15:41:14.597082600Z",
     "start_time": "2024-01-18T15:41:14.552234700Z"
    }
   },
   "id": "19728bf6a45c4752",
   "execution_count": 308
  },
  {
   "cell_type": "code",
   "outputs": [],
   "source": [
    "def findBestChromosome(pop, pop_size, df):\n",
    "    listOfScores = fitness_function(pop, pop_size, df)\n",
    "\n",
    "    max_value1 = max(listOfScores)\n",
    "    max_index1 = listOfScores.index(max_value1)\n",
    "\n",
    "    listOfScores.pop(max_index1)\n",
    "\n",
    "    max_value2 = max(listOfScores)\n",
    "    max_index2 = listOfScores.index(max_value2)\n",
    "\n",
    "    return max_index1, max_index2"
   ],
   "metadata": {
    "collapsed": false,
    "ExecuteTime": {
     "end_time": "2024-01-18T15:41:14.616082800Z",
     "start_time": "2024-01-18T15:41:14.564228400Z"
    }
   },
   "id": "be7765c9ff7dfc1",
   "execution_count": 309
  },
  {
   "cell_type": "code",
   "outputs": [],
   "source": [
    "def findWorstChromosome(pop, pop_size, df):\n",
    "    listOfScores = fitness_function(pop, pop_size, df)\n",
    "\n",
    "    min_value1 = min(listOfScores)\n",
    "    min_index1 = listOfScores.index(min_value1)\n",
    "\n",
    "    listOfScores.pop(min_index1)\n",
    "\n",
    "    min_value2 = min(listOfScores)\n",
    "    min_index2 = listOfScores.index(min_value2)\n",
    "\n",
    "    return min_index1, min_index2"
   ],
   "metadata": {
    "collapsed": false,
    "ExecuteTime": {
     "end_time": "2024-01-18T15:41:14.617083200Z",
     "start_time": "2024-01-18T15:41:14.593091500Z"
    }
   },
   "id": "5c81022a479d11fd",
   "execution_count": 310
  },
  {
   "cell_type": "code",
   "outputs": [
    {
     "name": "stdout",
     "output_type": "stream",
     "text": [
      "population =  [[1 1 3 ... 3 2 3]\n",
      " [3 1 3 ... 3 2 3]\n",
      " [3 3 2 ... 3 2 3]\n",
      " ...\n",
      " [3 1 1 ... 1 1 3]\n",
      " [3 3 1 ... 1 3 3]\n",
      " [2 3 1 ... 2 3 3]]\n",
      "population =  [[1 1 3 ... 3 2 3]\n",
      " [3 1 3 ... 3 2 3]\n",
      " [3 3 2 ... 3 2 3]\n",
      " ...\n",
      " [3 3 1 ... 1 3 3]\n",
      " [2 3 2 ... 3 2 3]\n",
      " [2 2 2 ... 3 2 3]]\n",
      "population =  [[1 1 3 ... 3 2 3]\n",
      " [3 1 3 ... 3 2 3]\n",
      " [3 3 2 ... 3 2 3]\n",
      " ...\n",
      " [2 2 2 ... 3 2 3]\n",
      " [2 1 1 ... 3 3 2]\n",
      " [3 1 3 ... 1 1 3]]\n",
      "population =  [[1 1 3 ... 3 2 3]\n",
      " [3 1 3 ... 3 2 3]\n",
      " [3 3 2 ... 3 2 3]\n",
      " ...\n",
      " [3 1 3 ... 1 1 3]\n",
      " [3 1 3 ... 1 1 3]\n",
      " [3 1 3 ... 1 1 2]]\n",
      "population =  [[1 1 3 ... 3 2 3]\n",
      " [3 1 3 ... 3 2 3]\n",
      " [2 1 1 ... 1 3 3]\n",
      " ...\n",
      " [3 1 3 ... 1 1 2]\n",
      " [3 2 2 ... 1 3 2]\n",
      " [2 3 3 ... 2 2 3]]\n",
      "population =  [[1 1 3 ... 3 2 3]\n",
      " [3 1 3 ... 3 2 3]\n",
      " [2 1 1 ... 1 3 3]\n",
      " ...\n",
      " [3 2 2 ... 1 3 2]\n",
      " [3 1 3 ... 1 3 1]\n",
      " [2 1 1 ... 1 1 1]]\n",
      "population =  [[1 1 3 ... 3 2 3]\n",
      " [3 1 3 ... 3 2 3]\n",
      " [2 1 1 ... 1 3 3]\n",
      " ...\n",
      " [3 2 2 ... 1 3 2]\n",
      " [3 3 1 ... 3 3 1]\n",
      " [2 2 1 ... 3 1 2]]\n",
      "population =  [[3 1 3 ... 3 2 3]\n",
      " [2 2 2 ... 3 2 3]\n",
      " [2 1 1 ... 3 3 2]\n",
      " ...\n",
      " [2 2 1 ... 3 1 2]\n",
      " [2 3 3 ... 1 3 3]\n",
      " [1 3 2 ... 2 2 3]]\n",
      "population =  [[3 1 3 ... 3 2 3]\n",
      " [2 1 1 ... 3 3 2]\n",
      " [3 1 3 ... 1 1 3]\n",
      " ...\n",
      " [1 3 2 ... 2 2 3]\n",
      " [1 2 2 ... 3 2 2]\n",
      " [3 1 2 ... 3 3 1]]\n",
      "population =  [[3 1 3 ... 3 2 3]\n",
      " [2 1 1 ... 3 3 2]\n",
      " [3 1 3 ... 1 1 3]\n",
      " ...\n",
      " [3 1 2 ... 3 3 1]\n",
      " [3 1 2 ... 2 2 3]\n",
      " [3 3 1 ... 2 1 1]]\n",
      "population =  [[3 1 3 ... 1 1 3]\n",
      " [3 1 3 ... 1 1 2]\n",
      " [3 3 1 ... 3 3 1]\n",
      " ...\n",
      " [3 3 1 ... 2 1 1]\n",
      " [3 2 3 ... 3 1 2]\n",
      " [3 2 3 ... 2 3 1]]\n",
      "population =  [[3 1 3 ... 1 1 3]\n",
      " [3 3 1 ... 3 3 1]\n",
      " [2 2 1 ... 3 1 2]\n",
      " ...\n",
      " [3 2 3 ... 2 3 1]\n",
      " [3 1 3 ... 3 3 1]\n",
      " [3 2 3 ... 3 1 2]]\n",
      "population =  [[3 1 3 ... 1 1 3]\n",
      " [3 3 1 ... 3 3 1]\n",
      " [1 3 2 ... 2 2 3]\n",
      " ...\n",
      " [3 2 3 ... 3 1 2]\n",
      " [3 1 3 ... 1 1 1]\n",
      " [3 1 3 ... 3 3 3]]\n",
      "population =  [[3 1 3 ... 1 1 3]\n",
      " [3 3 1 ... 3 3 1]\n",
      " [1 3 2 ... 2 2 3]\n",
      " ...\n",
      " [3 1 3 ... 3 3 3]\n",
      " [3 1 3 ... 1 1 2]\n",
      " [3 2 2 ... 2 1 3]]\n",
      "population =  [[3 1 3 ... 1 1 3]\n",
      " [1 3 2 ... 2 2 3]\n",
      " [3 2 3 ... 3 1 2]\n",
      " ...\n",
      " [3 2 2 ... 2 1 3]\n",
      " [3 1 2 ... 3 3 3]\n",
      " [1 3 2 ... 1 1 3]]\n",
      "population =  [[3 1 3 ... 1 1 3]\n",
      " [1 3 2 ... 2 2 3]\n",
      " [3 2 3 ... 3 1 2]\n",
      " ...\n",
      " [1 3 2 ... 1 1 3]\n",
      " [3 1 3 ... 2 1 3]\n",
      " [3 3 3 ... 1 1 3]]\n",
      "population =  [[3 1 3 ... 1 1 3]\n",
      " [3 2 3 ... 3 1 2]\n",
      " [3 1 3 ... 3 3 1]\n",
      " ...\n",
      " [3 3 3 ... 1 1 3]\n",
      " [3 2 1 ... 1 3 3]\n",
      " [2 3 2 ... 2 1 3]]\n",
      "population =  [[3 1 3 ... 1 1 3]\n",
      " [3 2 3 ... 3 1 2]\n",
      " [3 1 3 ... 3 3 1]\n",
      " ...\n",
      " [3 3 3 ... 1 1 3]\n",
      " [2 3 1 ... 1 2 1]\n",
      " [3 2 1 ... 3 3 3]]\n",
      "population =  [[3 1 3 ... 1 1 3]\n",
      " [3 2 3 ... 3 1 2]\n",
      " [3 1 3 ... 3 3 1]\n",
      " ...\n",
      " [3 2 1 ... 3 3 3]\n",
      " [3 2 1 ... 1 3 3]\n",
      " [1 1 3 ... 3 1 3]]\n",
      "population =  [[3 1 3 ... 1 1 3]\n",
      " [3 1 3 ... 3 3 1]\n",
      " [1 3 2 ... 1 1 3]\n",
      " ...\n",
      " [3 2 1 ... 1 3 3]\n",
      " [3 1 3 ... 1 2 3]\n",
      " [2 1 1 ... 3 1 3]]\n",
      "population =  [[3 1 3 ... 3 3 1]\n",
      " [1 3 2 ... 1 1 3]\n",
      " [3 1 3 ... 2 1 3]\n",
      " ...\n",
      " [2 1 1 ... 3 1 3]\n",
      " [3 2 1 ... 3 2 3]\n",
      " [3 1 3 ... 3 2 3]]\n",
      "population =  [[3 1 3 ... 3 3 1]\n",
      " [1 3 2 ... 1 1 3]\n",
      " [3 1 3 ... 2 1 3]\n",
      " ...\n",
      " [3 1 3 ... 3 2 3]\n",
      " [2 2 1 ... 1 1 3]\n",
      " [1 2 3 ... 3 3 3]]\n",
      "population =  [[1 3 2 ... 1 1 3]\n",
      " [3 1 3 ... 2 1 3]\n",
      " [3 3 3 ... 1 1 3]\n",
      " ...\n",
      " [2 2 1 ... 1 1 3]\n",
      " [3 2 1 ... 2 1 2]\n",
      " [3 3 3 ... 3 3 3]]\n",
      "population =  [[1 3 2 ... 1 1 3]\n",
      " [3 1 3 ... 2 1 3]\n",
      " [3 3 3 ... 1 1 3]\n",
      " ...\n",
      " [3 3 3 ... 3 3 3]\n",
      " [2 1 1 ... 3 2 1]\n",
      " [3 2 1 ... 3 1 3]]\n",
      "population =  [[1 3 2 ... 1 1 3]\n",
      " [3 1 3 ... 2 1 3]\n",
      " [3 3 3 ... 1 1 3]\n",
      " ...\n",
      " [3 2 1 ... 3 1 3]\n",
      " [3 3 1 ... 3 1 1]\n",
      " [3 1 1 ... 3 3 2]]\n",
      "population =  [[1 3 2 ... 1 1 3]\n",
      " [3 1 3 ... 2 1 3]\n",
      " [3 3 3 ... 1 1 3]\n",
      " ...\n",
      " [3 1 1 ... 3 3 2]\n",
      " [3 2 2 ... 1 1 3]\n",
      " [3 3 2 ... 3 2 3]]\n",
      "population =  [[1 3 2 ... 1 1 3]\n",
      " [3 1 3 ... 2 1 3]\n",
      " [3 3 3 ... 1 1 3]\n",
      " ...\n",
      " [3 3 2 ... 3 2 3]\n",
      " [1 3 3 ... 1 1 2]\n",
      " [1 3 2 ... 1 1 3]]\n",
      "population =  [[1 3 2 ... 1 1 3]\n",
      " [3 1 3 ... 2 1 3]\n",
      " [3 3 3 ... 1 1 3]\n",
      " ...\n",
      " [3 3 2 ... 3 2 3]\n",
      " [3 1 1 ... 3 2 2]\n",
      " [2 2 1 ... 1 2 1]]\n",
      "population =  [[1 3 2 ... 1 1 3]\n",
      " [3 1 3 ... 2 1 3]\n",
      " [3 3 3 ... 1 1 3]\n",
      " ...\n",
      " [3 1 1 ... 3 2 2]\n",
      " [3 1 3 ... 3 2 3]\n",
      " [3 2 2 ... 3 2 3]]\n",
      "population =  [[1 3 2 ... 1 1 3]\n",
      " [3 1 3 ... 2 1 3]\n",
      " [3 3 3 ... 1 1 3]\n",
      " ...\n",
      " [3 2 2 ... 3 2 3]\n",
      " [3 3 1 ... 3 2 2]\n",
      " [3 1 1 ... 2 2 2]]\n",
      "population =  [[1 3 2 ... 1 1 3]\n",
      " [3 1 3 ... 2 1 3]\n",
      " [3 1 3 ... 3 2 3]\n",
      " ...\n",
      " [3 1 1 ... 2 2 2]\n",
      " [1 2 1 ... 3 3 2]\n",
      " [3 2 1 ... 3 1 3]]\n",
      "population =  [[1 3 2 ... 1 1 3]\n",
      " [3 1 3 ... 2 1 3]\n",
      " [3 2 1 ... 3 1 3]\n",
      " ...\n",
      " [3 2 1 ... 3 1 3]\n",
      " [2 1 3 ... 3 1 1]\n",
      " [1 3 1 ... 2 2 2]]\n",
      "population =  [[3 2 1 ... 3 1 3]\n",
      " [3 1 1 ... 3 2 2]\n",
      " [3 2 2 ... 3 2 3]\n",
      " ...\n",
      " [1 3 1 ... 2 2 2]\n",
      " [3 1 1 ... 2 1 3]\n",
      " [3 1 2 ... 3 3 2]]\n",
      "population =  [[3 2 1 ... 3 1 3]\n",
      " [3 1 1 ... 3 2 2]\n",
      " [3 2 2 ... 3 2 3]\n",
      " ...\n",
      " [3 1 2 ... 3 3 2]\n",
      " [2 3 1 ... 3 1 3]\n",
      " [3 2 2 ... 2 2 3]]\n",
      "population =  [[3 2 1 ... 3 1 3]\n",
      " [3 1 1 ... 3 2 2]\n",
      " [3 2 2 ... 3 2 3]\n",
      " ...\n",
      " [3 2 2 ... 2 2 3]\n",
      " [1 2 1 ... 2 2 2]\n",
      " [1 1 1 ... 3 2 3]]\n",
      "population =  [[3 2 1 ... 3 1 3]\n",
      " [3 1 1 ... 3 2 2]\n",
      " [3 2 2 ... 3 2 3]\n",
      " ...\n",
      " [1 1 1 ... 3 2 3]\n",
      " [3 2 2 ... 2 2 2]\n",
      " [1 3 3 ... 3 1 3]]\n",
      "population =  [[3 1 1 ... 3 2 2]\n",
      " [3 2 2 ... 3 2 3]\n",
      " [3 1 1 ... 2 2 2]\n",
      " ...\n",
      " [3 2 2 ... 2 2 2]\n",
      " [2 3 1 ... 3 3 3]\n",
      " [2 3 3 ... 3 1 1]]\n",
      "population =  [[3 1 1 ... 3 2 2]\n",
      " [3 2 2 ... 3 2 3]\n",
      " [3 1 1 ... 2 2 2]\n",
      " ...\n",
      " [2 3 3 ... 3 1 1]\n",
      " [2 2 1 ... 2 2 3]\n",
      " [3 1 2 ... 2 1 1]]\n",
      "population =  [[3 1 1 ... 3 2 2]\n",
      " [3 2 2 ... 3 2 3]\n",
      " [3 1 1 ... 2 2 2]\n",
      " ...\n",
      " [3 1 2 ... 2 1 1]\n",
      " [1 1 1 ... 2 2 3]\n",
      " [2 1 3 ... 1 2 1]]\n",
      "population =  [[3 1 1 ... 3 2 2]\n",
      " [3 2 2 ... 3 2 3]\n",
      " [3 1 1 ... 2 2 2]\n",
      " ...\n",
      " [2 1 3 ... 1 2 1]\n",
      " [3 1 1 ... 3 1 2]\n",
      " [3 1 1 ... 3 3 1]]\n",
      "population =  [[3 1 1 ... 3 2 2]\n",
      " [3 2 2 ... 3 2 3]\n",
      " [3 1 1 ... 2 2 2]\n",
      " ...\n",
      " [3 1 1 ... 3 3 1]\n",
      " [1 3 1 ... 3 2 2]\n",
      " [2 1 2 ... 2 2 1]]\n",
      "population =  [[3 1 1 ... 3 2 2]\n",
      " [3 2 2 ... 3 2 3]\n",
      " [3 1 1 ... 2 2 2]\n",
      " ...\n",
      " [2 1 2 ... 2 2 1]\n",
      " [3 3 1 ... 3 1 1]\n",
      " [2 3 3 ... 1 3 3]]\n",
      "population =  [[3 1 1 ... 3 2 2]\n",
      " [3 2 2 ... 3 2 3]\n",
      " [3 1 1 ... 2 2 2]\n",
      " ...\n",
      " [3 3 1 ... 3 1 1]\n",
      " [1 2 3 ... 2 2 1]\n",
      " [2 3 1 ... 2 2 1]]\n",
      "population =  [[3 1 1 ... 3 2 2]\n",
      " [3 1 1 ... 2 2 2]\n",
      " [1 2 1 ... 2 2 2]\n",
      " ...\n",
      " [2 3 1 ... 2 2 1]\n",
      " [1 3 1 ... 3 2 2]\n",
      " [3 1 2 ... 2 2 1]]\n",
      "population =  [[3 1 1 ... 3 2 2]\n",
      " [3 1 1 ... 2 2 2]\n",
      " [1 2 1 ... 2 2 2]\n",
      " ...\n",
      " [1 3 1 ... 3 2 2]\n",
      " [2 2 3 ... 3 1 2]\n",
      " [3 1 1 ... 2 3 1]]\n",
      "population =  [[3 1 1 ... 3 2 2]\n",
      " [3 1 1 ... 2 2 2]\n",
      " [1 2 1 ... 2 2 2]\n",
      " ...\n",
      " [2 2 3 ... 3 1 2]\n",
      " [3 2 3 ... 2 2 2]\n",
      " [3 1 1 ... 2 1 2]]\n",
      "population =  [[3 1 1 ... 3 2 2]\n",
      " [3 1 1 ... 2 2 2]\n",
      " [1 2 1 ... 2 2 2]\n",
      " ...\n",
      " [3 1 1 ... 2 1 2]\n",
      " [3 2 1 ... 3 3 2]\n",
      " [1 1 1 ... 2 1 3]]\n",
      "population =  [[3 1 1 ... 3 2 2]\n",
      " [3 1 1 ... 2 2 2]\n",
      " [1 2 1 ... 2 2 2]\n",
      " ...\n",
      " [3 2 1 ... 3 3 2]\n",
      " [2 1 1 ... 3 2 2]\n",
      " [2 1 1 ... 1 3 2]]\n",
      "population =  [[3 1 1 ... 3 2 2]\n",
      " [3 1 1 ... 2 2 2]\n",
      " [2 3 1 ... 3 3 3]\n",
      " ...\n",
      " [2 1 1 ... 1 3 2]\n",
      " [1 1 1 ... 3 3 2]\n",
      " [3 2 1 ... 2 2 2]]\n",
      "population =  [[3 1 1 ... 3 2 2]\n",
      " [3 1 1 ... 2 2 2]\n",
      " [2 3 1 ... 3 3 3]\n",
      " ...\n",
      " [3 2 1 ... 2 2 2]\n",
      " [3 1 1 ... 1 3 1]\n",
      " [2 1 1 ... 2 1 2]]\n"
     ]
    }
   ],
   "source": [
    "count_of_generations = 50\n",
    "mutation_rate = 0.5\n",
    "population_size = 10\n",
    "n_data_points = 150\n",
    "max_clusters = 3\n",
    "\n",
    "population = initialize_population(population_size, n_data_points, max_clusters)\n",
    "\n",
    "# print(\"Initial Population:\")\n",
    "# for i in range(population_size):\n",
    "#     print(\"chromosome\", i,\":\", population[i])\n",
    "#     print()\n",
    "#   \n",
    "for i in range(count_of_generations):\n",
    "\n",
    "    indexOfWorst1, indexOfWorst2 = findWorstChromosome(population, population_size, pca_df)\n",
    "    population = np.delete(population, indexOfWorst1, axis=0)\n",
    "    population = np.delete(population, indexOfWorst2, axis=0)\n",
    "    \n",
    "    \n",
    "    indexOfBest1, indexOfBest2 = findBestChromosome(population, population_size - 2, pca_df)\n",
    "    \n",
    "    child1, child2 = crossover(population[indexOfBest1], population[indexOfBest2])\n",
    "    \n",
    "    child1_mutation =  mutation(child1, mutation_rate)\n",
    "    child2_mutation =  mutation(child2, mutation_rate)\n",
    "\n",
    "    population = np.concatenate((population, child1_mutation.reshape(1, -1)))\n",
    "    population = np.concatenate((population, child2_mutation.reshape(1, -1)))\n",
    "    \n",
    "    print(\"population = \", population)\n",
    "    print()\n"
   ],
   "metadata": {
    "collapsed": false,
    "ExecuteTime": {
     "end_time": "2024-01-18T15:42:38.497464300Z",
     "start_time": "2024-01-18T15:41:14.604081900Z"
    }
   },
   "id": "f08781abdbdda901",
   "execution_count": 311
  },
  {
   "cell_type": "code",
   "outputs": [],
   "source": [
    "def findAnswer(pop, pop_size, df):\n",
    "    listOfScores = fitness_function(pop, pop_size, df)\n",
    "\n",
    "    max_value = max(listOfScores)\n",
    "    max_index = listOfScores.index(max_value)\n",
    "    print(\"best_answer =\", pop[max_index])\n",
    "    print(\"score =\", max_value)\n",
    "    \n",
    "    return max_index, max_value"
   ],
   "metadata": {
    "collapsed": false,
    "ExecuteTime": {
     "end_time": "2024-01-18T15:42:38.499463200Z",
     "start_time": "2024-01-18T15:42:38.494464300Z"
    }
   },
   "id": "a22e6b24fbe240fb",
   "execution_count": 312
  },
  {
   "cell_type": "code",
   "outputs": [
    {
     "name": "stdout",
     "output_type": "stream",
     "text": [
      "best_answer = [3 1 1 3 3 3 3 2 2 2 2 2 2 2 2 2 1 2 1 1 3 2 2 1 1 1 1 3 3 2 1 3 1 3 2 1 3\n",
      " 1 2 2 3 3 2 2 3 2 3 3 3 3 1 2 2 3 3 3 2 2 2 3 2 3 1 3 3 2 1 1 2 2 2 1 3 1\n",
      " 2 3 1 2 3 3 1 1 3 3 1 3 3 1 2 3 2 3 1 2 3 3 2 2 3 3 2 2 2 2 3 1 3 3 2 2 2\n",
      " 1 3 1 2 2 1 3 3 3 3 2 3 2 2 3 3 3 1 3 2 2 2 2 2 3 3 3 3 2 1 3 1 1 2 3 2 3\n",
      " 2 2]\n",
      "score = 5.337517932386607\n",
      "150\n"
     ]
    }
   ],
   "source": [
    "best_index, best_value = findAnswer(population, population_size, pca_df)\n",
    "print(len(population[best_index]))"
   ],
   "metadata": {
    "collapsed": false,
    "ExecuteTime": {
     "end_time": "2024-01-18T15:42:39.551207900Z",
     "start_time": "2024-01-18T15:42:38.502463400Z"
    }
   },
   "id": "c67e0f771bd25efb",
   "execution_count": 313
  },
  {
   "cell_type": "code",
   "outputs": [
    {
     "data": {
      "text/plain": "<Figure size 640x480 with 1 Axes>",
      "image/png": "[encoded data removed]"
     },
     "metadata": {},
     "output_type": "display_data"
    }
   ],
   "source": [
    "import matplotlib.pyplot as plt\n",
    "\n",
    "clusters = population[best_index]\n",
    "\n",
    "color_mapping = {1: 'blue', 2: 'red', 3: 'green'}\n",
    "\n",
    "for i, cluster in enumerate(clusters):\n",
    "    plt.scatter(pca_df.at[i, \"PC1\"], pca_df.at[i, \"PC2\"], color=color_mapping[cluster])"
   ],
   "metadata": {
    "collapsed": false,
    "ExecuteTime": {
     "end_time": "2024-01-18T15:42:41.407161100Z",
     "start_time": "2024-01-18T15:42:39.572208Z"
    }
   },
   "id": "b0346104e30c6100",
   "execution_count": 314
  }
 ],
 "metadata": {
  "kernelspec": {
   "display_name": "Python 3",
   "language": "python",
   "name": "python3"
  },
  "language_info": {
   "codemirror_mode": {
    "name": "ipython",
    "version": 2
   },
   "file_extension": ".py",
   "mimetype": "text/x-python",
   "name": "python",
   "nbconvert_exporter": "python",
   "pygments_lexer": "ipython2",
   "version": "2.7.6"
  }
 },
 "nbformat": 4,
 "nbformat_minor": 5
}
